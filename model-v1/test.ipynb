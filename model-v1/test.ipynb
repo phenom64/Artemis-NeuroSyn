{
 "cells": [
  {
   "cell_type": "markdown",
   "metadata": {},
   "source": [
    "# Install and import libraries"
   ]
  },
  {
   "cell_type": "code",
   "execution_count": 1,
   "metadata": {},
   "outputs": [
    {
     "name": "stdout",
     "output_type": "stream",
     "text": [
      "Requirement already satisfied: pydot in c:\\users\\simpl\\anaconda3\\lib\\site-packages (3.0.2)\n",
      "Requirement already satisfied: pyparsing>=3.0.9 in c:\\users\\simpl\\anaconda3\\lib\\site-packages (from pydot) (3.0.9)\n",
      "Note: you may need to restart the kernel to use updated packages.\n",
      "Requirement already satisfied: tensorflow in c:\\users\\simpl\\anaconda3\\lib\\site-packages (2.17.0)\n",
      "Requirement already satisfied: tensorflow-intel==2.17.0 in c:\\users\\simpl\\anaconda3\\lib\\site-packages (from tensorflow) (2.17.0)\n",
      "Requirement already satisfied: absl-py>=1.0.0 in c:\\users\\simpl\\anaconda3\\lib\\site-packages (from tensorflow-intel==2.17.0->tensorflow) (2.1.0)\n",
      "Requirement already satisfied: astunparse>=1.6.0 in c:\\users\\simpl\\anaconda3\\lib\\site-packages (from tensorflow-intel==2.17.0->tensorflow) (1.6.3)\n",
      "Requirement already satisfied: flatbuffers>=24.3.25 in c:\\users\\simpl\\anaconda3\\lib\\site-packages (from tensorflow-intel==2.17.0->tensorflow) (24.3.25)\n",
      "Requirement already satisfied: gast!=0.5.0,!=0.5.1,!=0.5.2,>=0.2.1 in c:\\users\\simpl\\anaconda3\\lib\\site-packages (from tensorflow-intel==2.17.0->tensorflow) (0.6.0)\n",
      "Requirement already satisfied: google-pasta>=0.1.1 in c:\\users\\simpl\\anaconda3\\lib\\site-packages (from tensorflow-intel==2.17.0->tensorflow) (0.2.0)\n",
      "Requirement already satisfied: h5py>=3.10.0 in c:\\users\\simpl\\anaconda3\\lib\\site-packages (from tensorflow-intel==2.17.0->tensorflow) (3.11.0)\n",
      "Requirement already satisfied: libclang>=13.0.0 in c:\\users\\simpl\\anaconda3\\lib\\site-packages (from tensorflow-intel==2.17.0->tensorflow) (18.1.1)\n",
      "Requirement already satisfied: ml-dtypes<0.5.0,>=0.3.1 in c:\\users\\simpl\\anaconda3\\lib\\site-packages (from tensorflow-intel==2.17.0->tensorflow) (0.4.1)\n",
      "Requirement already satisfied: opt-einsum>=2.3.2 in c:\\users\\simpl\\anaconda3\\lib\\site-packages (from tensorflow-intel==2.17.0->tensorflow) (3.3.0)\n",
      "Requirement already satisfied: packaging in c:\\users\\simpl\\anaconda3\\lib\\site-packages (from tensorflow-intel==2.17.0->tensorflow) (23.2)\n",
      "Requirement already satisfied: protobuf!=4.21.0,!=4.21.1,!=4.21.2,!=4.21.3,!=4.21.4,!=4.21.5,<5.0.0dev,>=3.20.3 in c:\\users\\simpl\\anaconda3\\lib\\site-packages (from tensorflow-intel==2.17.0->tensorflow) (4.25.5)\n",
      "Requirement already satisfied: requests<3,>=2.21.0 in c:\\users\\simpl\\anaconda3\\lib\\site-packages (from tensorflow-intel==2.17.0->tensorflow) (2.32.2)\n",
      "Requirement already satisfied: setuptools in c:\\users\\simpl\\anaconda3\\lib\\site-packages (from tensorflow-intel==2.17.0->tensorflow) (69.5.1)\n",
      "Requirement already satisfied: six>=1.12.0 in c:\\users\\simpl\\anaconda3\\lib\\site-packages (from tensorflow-intel==2.17.0->tensorflow) (1.16.0)\n",
      "Requirement already satisfied: termcolor>=1.1.0 in c:\\users\\simpl\\anaconda3\\lib\\site-packages (from tensorflow-intel==2.17.0->tensorflow) (2.4.0)\n",
      "Requirement already satisfied: typing-extensions>=3.6.6 in c:\\users\\simpl\\anaconda3\\lib\\site-packages (from tensorflow-intel==2.17.0->tensorflow) (4.11.0)\n",
      "Requirement already satisfied: wrapt>=1.11.0 in c:\\users\\simpl\\anaconda3\\lib\\site-packages (from tensorflow-intel==2.17.0->tensorflow) (1.14.1)\n",
      "Requirement already satisfied: grpcio<2.0,>=1.24.3 in c:\\users\\simpl\\anaconda3\\lib\\site-packages (from tensorflow-intel==2.17.0->tensorflow) (1.66.1)\n",
      "Requirement already satisfied: tensorboard<2.18,>=2.17 in c:\\users\\simpl\\anaconda3\\lib\\site-packages (from tensorflow-intel==2.17.0->tensorflow) (2.17.1)\n",
      "Requirement already satisfied: keras>=3.2.0 in c:\\users\\simpl\\anaconda3\\lib\\site-packages (from tensorflow-intel==2.17.0->tensorflow) (3.5.0)\n",
      "Requirement already satisfied: numpy<2.0.0,>=1.26.0 in c:\\users\\simpl\\anaconda3\\lib\\site-packages (from tensorflow-intel==2.17.0->tensorflow) (1.26.4)\n",
      "Requirement already satisfied: wheel<1.0,>=0.23.0 in c:\\users\\simpl\\anaconda3\\lib\\site-packages (from astunparse>=1.6.0->tensorflow-intel==2.17.0->tensorflow) (0.43.0)\n",
      "Requirement already satisfied: rich in c:\\users\\simpl\\anaconda3\\lib\\site-packages (from keras>=3.2.0->tensorflow-intel==2.17.0->tensorflow) (13.3.5)\n",
      "Requirement already satisfied: namex in c:\\users\\simpl\\anaconda3\\lib\\site-packages (from keras>=3.2.0->tensorflow-intel==2.17.0->tensorflow) (0.0.8)\n",
      "Requirement already satisfied: optree in c:\\users\\simpl\\anaconda3\\lib\\site-packages (from keras>=3.2.0->tensorflow-intel==2.17.0->tensorflow) (0.12.1)\n",
      "Requirement already satisfied: charset-normalizer<4,>=2 in c:\\users\\simpl\\anaconda3\\lib\\site-packages (from requests<3,>=2.21.0->tensorflow-intel==2.17.0->tensorflow) (2.0.4)\n",
      "Requirement already satisfied: idna<4,>=2.5 in c:\\users\\simpl\\anaconda3\\lib\\site-packages (from requests<3,>=2.21.0->tensorflow-intel==2.17.0->tensorflow) (3.7)\n",
      "Requirement already satisfied: urllib3<3,>=1.21.1 in c:\\users\\simpl\\anaconda3\\lib\\site-packages (from requests<3,>=2.21.0->tensorflow-intel==2.17.0->tensorflow) (2.2.2)\n",
      "Requirement already satisfied: certifi>=2017.4.17 in c:\\users\\simpl\\anaconda3\\lib\\site-packages (from requests<3,>=2.21.0->tensorflow-intel==2.17.0->tensorflow) (2024.7.4)\n",
      "Requirement already satisfied: markdown>=2.6.8 in c:\\users\\simpl\\anaconda3\\lib\\site-packages (from tensorboard<2.18,>=2.17->tensorflow-intel==2.17.0->tensorflow) (3.7)\n",
      "Requirement already satisfied: tensorboard-data-server<0.8.0,>=0.7.0 in c:\\users\\simpl\\anaconda3\\lib\\site-packages (from tensorboard<2.18,>=2.17->tensorflow-intel==2.17.0->tensorflow) (0.7.2)\n",
      "Requirement already satisfied: werkzeug>=1.0.1 in c:\\users\\simpl\\anaconda3\\lib\\site-packages (from tensorboard<2.18,>=2.17->tensorflow-intel==2.17.0->tensorflow) (3.0.3)\n",
      "Requirement already satisfied: MarkupSafe>=2.1.1 in c:\\users\\simpl\\anaconda3\\lib\\site-packages (from werkzeug>=1.0.1->tensorboard<2.18,>=2.17->tensorflow-intel==2.17.0->tensorflow) (2.1.3)\n",
      "Requirement already satisfied: markdown-it-py<3.0.0,>=2.2.0 in c:\\users\\simpl\\anaconda3\\lib\\site-packages (from rich->keras>=3.2.0->tensorflow-intel==2.17.0->tensorflow) (2.2.0)\n",
      "Requirement already satisfied: pygments<3.0.0,>=2.13.0 in c:\\users\\simpl\\anaconda3\\lib\\site-packages (from rich->keras>=3.2.0->tensorflow-intel==2.17.0->tensorflow) (2.18.0)\n",
      "Requirement already satisfied: mdurl~=0.1 in c:\\users\\simpl\\anaconda3\\lib\\site-packages (from markdown-it-py<3.0.0,>=2.2.0->rich->keras>=3.2.0->tensorflow-intel==2.17.0->tensorflow) (0.1.0)\n",
      "Note: you may need to restart the kernel to use updated packages.\n",
      "Requirement already satisfied: scikit-learn in c:\\users\\simpl\\anaconda3\\lib\\site-packages (1.4.2)\n",
      "Requirement already satisfied: numpy>=1.19.5 in c:\\users\\simpl\\anaconda3\\lib\\site-packages (from scikit-learn) (1.26.4)\n",
      "Requirement already satisfied: scipy>=1.6.0 in c:\\users\\simpl\\anaconda3\\lib\\site-packages (from scikit-learn) (1.13.1)\n",
      "Requirement already satisfied: joblib>=1.2.0 in c:\\users\\simpl\\anaconda3\\lib\\site-packages (from scikit-learn) (1.4.2)\n",
      "Requirement already satisfied: threadpoolctl>=2.0.0 in c:\\users\\simpl\\anaconda3\\lib\\site-packages (from scikit-learn) (2.2.0)\n",
      "Note: you may need to restart the kernel to use updated packages.\n",
      "Requirement already satisfied: xgboost in c:\\users\\simpl\\anaconda3\\lib\\site-packages (2.1.2)\n",
      "Requirement already satisfied: numpy in c:\\users\\simpl\\anaconda3\\lib\\site-packages (from xgboost) (1.26.4)\n",
      "Requirement already satisfied: scipy in c:\\users\\simpl\\anaconda3\\lib\\site-packages (from xgboost) (1.13.1)\n",
      "Note: you may need to restart the kernel to use updated packages.\n"
     ]
    }
   ],
   "source": [
    "%pip install pydot\n",
    "%pip install tensorflow\n",
    "%pip install scikit-learn\n",
    "%pip install xgboost"
   ]
  },
  {
   "cell_type": "code",
   "execution_count": 2,
   "metadata": {},
   "outputs": [],
   "source": [
    "import matplotlib.pyplot as plt\n",
    "import numpy as np\n",
    "import pandas as pd\n",
    "import pickle\n",
    "import time\n",
    "\n",
    "from sklearn.preprocessing import StandardScaler\n",
    "from sklearn.model_selection import train_test_split\n",
    "\n",
    "from tensorflow.keras.models import Sequential\n",
    "from tensorflow.keras.layers import Dense, Dropout, BatchNormalization\n",
    "from tensorflow.keras.optimizers import Adam\n",
    "from tensorflow.keras.callbacks import EarlyStopping\n",
    "\n",
    "from xgboost import XGBClassifier\n",
    "\n",
    "from pathlib import Path\n",
    "\n",
    "from constants import (\n",
    "    DATA_INPUT_PATH,\n",
    "    CLASSES,\n",
    "    MODEL_PATH,\n",
    "    METADATA_PATH,\n",
    ")"
   ]
  },
  {
   "cell_type": "markdown",
   "metadata": {},
   "source": [
    "# Read the files in the data dir"
   ]
  },
  {
   "cell_type": "code",
   "execution_count": 3,
   "metadata": {},
   "outputs": [
    {
     "name": "stdout",
     "output_type": "stream",
     "text": [
      "[WindowsPath('data/3_9_dylansmall2.csv')]\n"
     ]
    }
   ],
   "source": [
    "# Read all of the files in the data folder\n",
    "files_in_folder = Path(DATA_INPUT_PATH).rglob(\"*.csv\")\n",
    "\n",
    "files = [x for x in files_in_folder]\n",
    "print([file for file in files])"
   ]
  },
  {
   "cell_type": "markdown",
   "metadata": {},
   "source": [
    "## Convert .csv(s) to dataframes and concatenate"
   ]
  },
  {
   "cell_type": "code",
   "execution_count": 4,
   "metadata": {},
   "outputs": [
    {
     "name": "stdout",
     "output_type": "stream",
     "text": [
      "Shape of dataframe before removing duplicates (33897, 17)\n",
      "Shape of dataframe after removing duplicates (33897, 17)\n"
     ]
    }
   ],
   "source": [
    "# Read the data from the files\n",
    "dfs = []\n",
    "\n",
    "for file in files:\n",
    "    df = pd.read_csv(str(file))\n",
    "    dfs.append(df)\n",
    "        \n",
    "# Convert the data to a DataFrame\n",
    "df = pd.concat([x for x in dfs], axis=0)\n",
    "\n",
    "# print(df.head())\n",
    "\n",
    "# Before removing duplicates\n",
    "print(f\"Shape of dataframe before removing duplicates {df.shape}\")\n",
    "# Remove duplicates\n",
    "df = df.drop_duplicates()\n",
    "print(f\"Shape of dataframe after removing duplicates {df.shape}\")\n",
    "\n",
    "# Print out the columns\n",
    "# classes = {\n",
    "#     \"0\": \"unmarked\",\n",
    "#     \"1\": \"rest\",\n",
    "#     \"2\": \"clenched_fist\",\n",
    "#     \"3\": \"wrist_flexion\",\n",
    "#     \"4\": \"wrist_extension\",\n",
    "#     \"5\": \"radial_deviations\",\n",
    "#     \"6\": \"ulnar_deviations\",\n",
    "#     \"7\": \"extended_palm\"\n",
    "# }"
   ]
  },
  {
   "cell_type": "markdown",
   "metadata": {},
   "source": [
    "## Visualise the dataset"
   ]
  },
  {
   "cell_type": "code",
   "execution_count": 5,
   "metadata": {},
   "outputs": [
    {
     "data": {
      "image/png": "[encoded data removed]",
      "text/plain": [
       "<Figure size 1500x800 with 1 Axes>"
      ]
     },
     "metadata": {},
     "output_type": "display_data"
    }
   ],
   "source": [
    "class_counts = df['Label'].value_counts().sort_index()\n",
    "\n",
    "plt.figure(figsize=(15, 8))\n",
    "bars = plt.bar(range(len(class_counts)), class_counts.values)\n",
    "\n",
    "plt.title('EMG Signal Class Distribution', fontsize=14, pad=20)\n",
    "plt.xlabel('Class', fontsize=12)\n",
    "plt.ylabel('Number of Samples', fontsize=12)\n",
    "\n",
    "# Set x-axis ticks with class labels\n",
    "plt.xticks(range(len(class_counts)), [CLASSES[i] for i in range(len(class_counts))], rotation=45, ha='right')\n",
    "\n",
    "# Add value labels on top of each bar\n",
    "for bar in bars:\n",
    "    height = bar.get_height()\n",
    "    plt.text(bar.get_x() + bar.get_width()/2., height,\n",
    "             f'{int(height):,}',\n",
    "             ha='center', va='bottom')\n",
    "\n",
    "plt.tight_layout()\n",
    "plt.show()"
   ]
  },
  {
   "cell_type": "code",
   "execution_count": 6,
   "metadata": {},
   "outputs": [],
   "source": [
    "# # Group data by label and calculate mean for each sensor\n",
    "# sensor_avgs = []\n",
    "# sensor_stds = []\n",
    "\n",
    "# for label in range(8):\n",
    "#     label_data = df[df['Label'] == label].drop('Label', axis=1)\n",
    "#     sensor_avgs.append(label_data.mean().values)\n",
    "#     sensor_stds.append(label_data.std().values)\n",
    "\n",
    "# sensor_avgs = np.array(sensor_avgs)\n",
    "# sensor_stds = np.array(sensor_stds)\n",
    "\n",
    "# # Set up the plot\n",
    "# plt.figure(figsize=(15, 8))\n",
    "\n",
    "# # Plot bars for each gesture\n",
    "# x = np.arange(16)\n",
    "# width = 0.1\n",
    "# for i in range(8):\n",
    "#     plt.bar(x + i*width, sensor_avgs[i], width, \n",
    "#             label=CLASSES[i],\n",
    "#             yerr=sensor_stds[i],\n",
    "#             capsize=2)\n",
    "\n",
    "# # Customize the plot\n",
    "# plt.xlabel('Sensor Number')\n",
    "# plt.ylabel('Average Reading')\n",
    "# plt.title('Average EMG Sensor Readings by Gesture')\n",
    "# plt.xticks(x + width*4, [f'S{i+1}' for i in range(16)])\n",
    "# plt.legend(bbox_to_anchor=(1.05, 1), loc='upper left')\n",
    "# plt.tight_layout()\n",
    "# plt.show()"
   ]
  },
  {
   "cell_type": "code",
   "execution_count": 7,
   "metadata": {},
   "outputs": [],
   "source": [
    "# # Set up the subplot grid for all 16 sensors x 8 classes\n",
    "# fig, axs = plt.subplots(8, 16, figsize=(30, 20))\n",
    "# fig.suptitle('EMG Sensor Data Distribution by Class and Sensor')\n",
    "\n",
    "# bins = np.arange(-128, 129, 16) # Create bins from -128 to 128 in steps of 16\n",
    "\n",
    "# for class_id, class_name in CLASSES.items():\n",
    "#    class_data = df[df['Label'] == class_id]\n",
    "   \n",
    "#    for sensor in range(16):\n",
    "#        sensor_col = f'Sensor{sensor+1}'\n",
    "#        sensor_data = class_data[sensor_col]\n",
    "       \n",
    "#        axs[class_id, sensor].hist(sensor_data, bins=bins)\n",
    "#        axs[class_id, sensor].set_title(f'{CLASSES[class_id]} - {sensor_col}')\n",
    "       \n",
    "#        # Only show y-axis labels for leftmost plots\n",
    "#        if sensor != 0:\n",
    "#            axs[class_id, sensor].set_yticklabels([])\n",
    "           \n",
    "#        # Only show x-axis labels for bottom plots\n",
    "#        if class_id != 7:\n",
    "#            axs[class_id, sensor].set_xticklabels([])\n",
    "\n",
    "# plt.tight_layout()\n",
    "# plt.show()"
   ]
  },
  {
   "cell_type": "markdown",
   "metadata": {},
   "source": [
    "## Scale and clean the data, then train the model"
   ]
  },
  {
   "cell_type": "code",
   "execution_count": 8,
   "metadata": {},
   "outputs": [
    {
     "name": "stderr",
     "output_type": "stream",
     "text": [
      "c:\\Users\\simpl\\anaconda3\\Lib\\site-packages\\keras\\src\\layers\\core\\dense.py:87: UserWarning: Do not pass an `input_shape`/`input_dim` argument to a layer. When using Sequential models, prefer using an `Input(shape)` object as the first layer in the model instead.\n",
      "  super().__init__(activity_regularizer=activity_regularizer, **kwargs)\n"
     ]
    },
    {
     "name": "stdout",
     "output_type": "stream",
     "text": [
      "Epoch 1/100\n",
      "\u001b[1m678/678\u001b[0m \u001b[32m━━━━━━━━━━━━━━━━━━━━\u001b[0m\u001b[37m\u001b[0m \u001b[1m4s\u001b[0m 2ms/step - accuracy: 0.2793 - loss: 1.8068 - val_accuracy: 0.4801 - val_loss: 1.0735\n",
      "Epoch 2/100\n",
      "\u001b[1m678/678\u001b[0m \u001b[32m━━━━━━━━━━━━━━━━━━━━\u001b[0m\u001b[37m\u001b[0m \u001b[1m2s\u001b[0m 2ms/step - accuracy: 0.4543 - loss: 1.1296 - val_accuracy: 0.5227 - val_loss: 1.0162\n",
      "Epoch 3/100\n",
      "\u001b[1m678/678\u001b[0m \u001b[32m━━━━━━━━━━━━━━━━━━━━\u001b[0m\u001b[37m\u001b[0m \u001b[1m1s\u001b[0m 2ms/step - accuracy: 0.4747 - loss: 1.0827 - val_accuracy: 0.5101 - val_loss: 1.0017\n",
      "Epoch 4/100\n",
      "\u001b[1m678/678\u001b[0m \u001b[32m━━━━━━━━━━━━━━━━━━━━\u001b[0m\u001b[37m\u001b[0m \u001b[1m2s\u001b[0m 2ms/step - accuracy: 0.4919 - loss: 1.0564 - val_accuracy: 0.5431 - val_loss: 0.9722\n",
      "Epoch 5/100\n",
      "\u001b[1m678/678\u001b[0m \u001b[32m━━━━━━━━━━━━━━━━━━━━\u001b[0m\u001b[37m\u001b[0m \u001b[1m2s\u001b[0m 3ms/step - accuracy: 0.5096 - loss: 1.0328 - val_accuracy: 0.5660 - val_loss: 0.9523\n",
      "Epoch 6/100\n",
      "\u001b[1m678/678\u001b[0m \u001b[32m━━━━━━━━━━━━━━━━━━━━\u001b[0m\u001b[37m\u001b[0m \u001b[1m2s\u001b[0m 2ms/step - accuracy: 0.5138 - loss: 1.0221 - val_accuracy: 0.5798 - val_loss: 0.9380\n",
      "Epoch 7/100\n",
      "\u001b[1m678/678\u001b[0m \u001b[32m━━━━━━━━━━━━━━━━━━━━\u001b[0m\u001b[37m\u001b[0m \u001b[1m2s\u001b[0m 3ms/step - accuracy: 0.5307 - loss: 1.0004 - val_accuracy: 0.5857 - val_loss: 0.9234\n",
      "Epoch 8/100\n",
      "\u001b[1m678/678\u001b[0m \u001b[32m━━━━━━━━━━━━━━━━━━━━\u001b[0m\u001b[37m\u001b[0m \u001b[1m2s\u001b[0m 2ms/step - accuracy: 0.5458 - loss: 0.9842 - val_accuracy: 0.6005 - val_loss: 0.9095\n",
      "Epoch 9/100\n",
      "\u001b[1m678/678\u001b[0m \u001b[32m━━━━━━━━━━━━━━━━━━━━\u001b[0m\u001b[37m\u001b[0m \u001b[1m2s\u001b[0m 2ms/step - accuracy: 0.5533 - loss: 0.9709 - val_accuracy: 0.6047 - val_loss: 0.9039\n",
      "Epoch 10/100\n",
      "\u001b[1m678/678\u001b[0m \u001b[32m━━━━━━━━━━━━━━━━━━━━\u001b[0m\u001b[37m\u001b[0m \u001b[1m2s\u001b[0m 2ms/step - accuracy: 0.5598 - loss: 0.9717 - val_accuracy: 0.6071 - val_loss: 0.8902\n",
      "Epoch 11/100\n",
      "\u001b[1m678/678\u001b[0m \u001b[32m━━━━━━━━━━━━━━━━━━━━\u001b[0m\u001b[37m\u001b[0m \u001b[1m2s\u001b[0m 3ms/step - accuracy: 0.5684 - loss: 0.9587 - val_accuracy: 0.6077 - val_loss: 0.8888\n",
      "Epoch 12/100\n",
      "\u001b[1m678/678\u001b[0m \u001b[32m━━━━━━━━━━━━━━━━━━━━\u001b[0m\u001b[37m\u001b[0m \u001b[1m2s\u001b[0m 3ms/step - accuracy: 0.5650 - loss: 0.9592 - val_accuracy: 0.6055 - val_loss: 0.8931\n",
      "Epoch 13/100\n",
      "\u001b[1m678/678\u001b[0m \u001b[32m━━━━━━━━━━━━━━━━━━━━\u001b[0m\u001b[37m\u001b[0m \u001b[1m2s\u001b[0m 3ms/step - accuracy: 0.5686 - loss: 0.9454 - val_accuracy: 0.6163 - val_loss: 0.8826\n",
      "Epoch 14/100\n",
      "\u001b[1m678/678\u001b[0m \u001b[32m━━━━━━━━━━━━━━━━━━━━\u001b[0m\u001b[37m\u001b[0m \u001b[1m2s\u001b[0m 2ms/step - accuracy: 0.5768 - loss: 0.9329 - val_accuracy: 0.6150 - val_loss: 0.8815\n",
      "Epoch 15/100\n",
      "\u001b[1m678/678\u001b[0m \u001b[32m━━━━━━━━━━━━━━━━━━━━\u001b[0m\u001b[37m\u001b[0m \u001b[1m1s\u001b[0m 2ms/step - accuracy: 0.5727 - loss: 0.9377 - val_accuracy: 0.6143 - val_loss: 0.8846\n",
      "Epoch 16/100\n",
      "\u001b[1m678/678\u001b[0m \u001b[32m━━━━━━━━━━━━━━━━━━━━\u001b[0m\u001b[37m\u001b[0m \u001b[1m1s\u001b[0m 2ms/step - accuracy: 0.5755 - loss: 0.9354 - val_accuracy: 0.6195 - val_loss: 0.8829\n",
      "Epoch 17/100\n",
      "\u001b[1m678/678\u001b[0m \u001b[32m━━━━━━━━━━━━━━━━━━━━\u001b[0m\u001b[37m\u001b[0m \u001b[1m1s\u001b[0m 2ms/step - accuracy: 0.5746 - loss: 0.9372 - val_accuracy: 0.6191 - val_loss: 0.8791\n",
      "Epoch 18/100\n",
      "\u001b[1m678/678\u001b[0m \u001b[32m━━━━━━━━━━━━━━━━━━━━\u001b[0m\u001b[37m\u001b[0m \u001b[1m2s\u001b[0m 3ms/step - accuracy: 0.5739 - loss: 0.9335 - val_accuracy: 0.6184 - val_loss: 0.8824\n",
      "Epoch 19/100\n",
      "\u001b[1m678/678\u001b[0m \u001b[32m━━━━━━━━━━━━━━━━━━━━\u001b[0m\u001b[37m\u001b[0m \u001b[1m2s\u001b[0m 2ms/step - accuracy: 0.5978 - loss: 0.9092 - val_accuracy: 0.6132 - val_loss: 0.8815\n",
      "Epoch 20/100\n",
      "\u001b[1m678/678\u001b[0m \u001b[32m━━━━━━━━━━━━━━━━━━━━\u001b[0m\u001b[37m\u001b[0m \u001b[1m2s\u001b[0m 3ms/step - accuracy: 0.5766 - loss: 0.9223 - val_accuracy: 0.6180 - val_loss: 0.8716\n",
      "Epoch 21/100\n",
      "\u001b[1m678/678\u001b[0m \u001b[32m━━━━━━━━━━━━━━━━━━━━\u001b[0m\u001b[37m\u001b[0m \u001b[1m2s\u001b[0m 2ms/step - accuracy: 0.5868 - loss: 0.9217 - val_accuracy: 0.6248 - val_loss: 0.8661\n",
      "Epoch 22/100\n",
      "\u001b[1m678/678\u001b[0m \u001b[32m━━━━━━━━━━━━━━━━━━━━\u001b[0m\u001b[37m\u001b[0m \u001b[1m2s\u001b[0m 3ms/step - accuracy: 0.5811 - loss: 0.9345 - val_accuracy: 0.6165 - val_loss: 0.8732\n",
      "Epoch 23/100\n",
      "\u001b[1m678/678\u001b[0m \u001b[32m━━━━━━━━━━━━━━━━━━━━\u001b[0m\u001b[37m\u001b[0m \u001b[1m2s\u001b[0m 2ms/step - accuracy: 0.5810 - loss: 0.9248 - val_accuracy: 0.6149 - val_loss: 0.8761\n",
      "Epoch 24/100\n",
      "\u001b[1m678/678\u001b[0m \u001b[32m━━━━━━━━━━━━━━━━━━━━\u001b[0m\u001b[37m\u001b[0m \u001b[1m2s\u001b[0m 3ms/step - accuracy: 0.5904 - loss: 0.9176 - val_accuracy: 0.6281 - val_loss: 0.8691\n",
      "Epoch 25/100\n",
      "\u001b[1m678/678\u001b[0m \u001b[32m━━━━━━━━━━━━━━━━━━━━\u001b[0m\u001b[37m\u001b[0m \u001b[1m2s\u001b[0m 2ms/step - accuracy: 0.5823 - loss: 0.9142 - val_accuracy: 0.6180 - val_loss: 0.8728\n",
      "Epoch 26/100\n",
      "\u001b[1m678/678\u001b[0m \u001b[32m━━━━━━━━━━━━━━━━━━━━\u001b[0m\u001b[37m\u001b[0m \u001b[1m2s\u001b[0m 3ms/step - accuracy: 0.5902 - loss: 0.9084 - val_accuracy: 0.6250 - val_loss: 0.8718\n",
      "Epoch 27/100\n",
      "\u001b[1m678/678\u001b[0m \u001b[32m━━━━━━━━━━━━━━━━━━━━\u001b[0m\u001b[37m\u001b[0m \u001b[1m1s\u001b[0m 2ms/step - accuracy: 0.5893 - loss: 0.9134 - val_accuracy: 0.6232 - val_loss: 0.8637\n",
      "Epoch 28/100\n",
      "\u001b[1m678/678\u001b[0m \u001b[32m━━━━━━━━━━━━━━━━━━━━\u001b[0m\u001b[37m\u001b[0m \u001b[1m2s\u001b[0m 2ms/step - accuracy: 0.5840 - loss: 0.9184 - val_accuracy: 0.6244 - val_loss: 0.8715\n",
      "Epoch 29/100\n",
      "\u001b[1m678/678\u001b[0m \u001b[32m━━━━━━━━━━━━━━━━━━━━\u001b[0m\u001b[37m\u001b[0m \u001b[1m1s\u001b[0m 2ms/step - accuracy: 0.5963 - loss: 0.8989 - val_accuracy: 0.6267 - val_loss: 0.8681\n",
      "Epoch 30/100\n",
      "\u001b[1m678/678\u001b[0m \u001b[32m━━━━━━━━━━━━━━━━━━━━\u001b[0m\u001b[37m\u001b[0m \u001b[1m2s\u001b[0m 2ms/step - accuracy: 0.5881 - loss: 0.9100 - val_accuracy: 0.6230 - val_loss: 0.8655\n",
      "Epoch 31/100\n",
      "\u001b[1m678/678\u001b[0m \u001b[32m━━━━━━━━━━━━━━━━━━━━\u001b[0m\u001b[37m\u001b[0m \u001b[1m1s\u001b[0m 2ms/step - accuracy: 0.5922 - loss: 0.9112 - val_accuracy: 0.6244 - val_loss: 0.8697\n",
      "Epoch 32/100\n",
      "\u001b[1m678/678\u001b[0m \u001b[32m━━━━━━━━━━━━━━━━━━━━\u001b[0m\u001b[37m\u001b[0m \u001b[1m1s\u001b[0m 2ms/step - accuracy: 0.5856 - loss: 0.9138 - val_accuracy: 0.6209 - val_loss: 0.8742\n",
      "Epoch 33/100\n",
      "\u001b[1m678/678\u001b[0m \u001b[32m━━━━━━━━━━━━━━━━━━━━\u001b[0m\u001b[37m\u001b[0m \u001b[1m1s\u001b[0m 2ms/step - accuracy: 0.5907 - loss: 0.8992 - val_accuracy: 0.6182 - val_loss: 0.8739\n",
      "Epoch 34/100\n",
      "\u001b[1m678/678\u001b[0m \u001b[32m━━━━━━━━━━━━━━━━━━━━\u001b[0m\u001b[37m\u001b[0m \u001b[1m2s\u001b[0m 2ms/step - accuracy: 0.5921 - loss: 0.9001 - val_accuracy: 0.6246 - val_loss: 0.8605\n",
      "Epoch 35/100\n",
      "\u001b[1m678/678\u001b[0m \u001b[32m━━━━━━━━━━━━━━━━━━━━\u001b[0m\u001b[37m\u001b[0m \u001b[1m3s\u001b[0m 3ms/step - accuracy: 0.5906 - loss: 0.8997 - val_accuracy: 0.6200 - val_loss: 0.8698\n",
      "Epoch 36/100\n",
      "\u001b[1m678/678\u001b[0m \u001b[32m━━━━━━━━━━━━━━━━━━━━\u001b[0m\u001b[37m\u001b[0m \u001b[1m1s\u001b[0m 2ms/step - accuracy: 0.5941 - loss: 0.9042 - val_accuracy: 0.6180 - val_loss: 0.8646\n",
      "Epoch 37/100\n",
      "\u001b[1m678/678\u001b[0m \u001b[32m━━━━━━━━━━━━━━━━━━━━\u001b[0m\u001b[37m\u001b[0m \u001b[1m3s\u001b[0m 2ms/step - accuracy: 0.5839 - loss: 0.9160 - val_accuracy: 0.6200 - val_loss: 0.8685\n",
      "Epoch 38/100\n",
      "\u001b[1m678/678\u001b[0m \u001b[32m━━━━━━━━━━━━━━━━━━━━\u001b[0m\u001b[37m\u001b[0m \u001b[1m2s\u001b[0m 2ms/step - accuracy: 0.5908 - loss: 0.9102 - val_accuracy: 0.6187 - val_loss: 0.8657\n",
      "Epoch 39/100\n",
      "\u001b[1m678/678\u001b[0m \u001b[32m━━━━━━━━━━━━━━━━━━━━\u001b[0m\u001b[37m\u001b[0m \u001b[1m2s\u001b[0m 2ms/step - accuracy: 0.5876 - loss: 0.9081 - val_accuracy: 0.6206 - val_loss: 0.8613\n",
      "Epoch 40/100\n",
      "\u001b[1m678/678\u001b[0m \u001b[32m━━━━━━━━━━━━━━━━━━━━\u001b[0m\u001b[37m\u001b[0m \u001b[1m2s\u001b[0m 2ms/step - accuracy: 0.5987 - loss: 0.8892 - val_accuracy: 0.6198 - val_loss: 0.8677\n",
      "Epoch 41/100\n",
      "\u001b[1m678/678\u001b[0m \u001b[32m━━━━━━━━━━━━━━━━━━━━\u001b[0m\u001b[37m\u001b[0m \u001b[1m1s\u001b[0m 2ms/step - accuracy: 0.5981 - loss: 0.9010 - val_accuracy: 0.6150 - val_loss: 0.8709\n",
      "Epoch 42/100\n",
      "\u001b[1m678/678\u001b[0m \u001b[32m━━━━━━━━━━━━━━━━━━━━\u001b[0m\u001b[37m\u001b[0m \u001b[1m2s\u001b[0m 2ms/step - accuracy: 0.5876 - loss: 0.9058 - val_accuracy: 0.6171 - val_loss: 0.8711\n",
      "Epoch 43/100\n",
      "\u001b[1m678/678\u001b[0m \u001b[32m━━━━━━━━━━━━━━━━━━━━\u001b[0m\u001b[37m\u001b[0m \u001b[1m2s\u001b[0m 2ms/step - accuracy: 0.5885 - loss: 0.9040 - val_accuracy: 0.6171 - val_loss: 0.8814\n",
      "Epoch 44/100\n",
      "\u001b[1m678/678\u001b[0m \u001b[32m━━━━━━━━━━━━━━━━━━━━\u001b[0m\u001b[37m\u001b[0m \u001b[1m2s\u001b[0m 2ms/step - accuracy: 0.5978 - loss: 0.8982 - val_accuracy: 0.6163 - val_loss: 0.8745\n",
      "\u001b[1m212/212\u001b[0m \u001b[32m━━━━━━━━━━━━━━━━━━━━\u001b[0m\u001b[37m\u001b[0m \u001b[1m0s\u001b[0m 2ms/step - accuracy: 0.6180 - loss: 0.8648\n",
      "Test accuracy for sequential model: 0.6128318309783936\n",
      "Time taken for sequential model: 75.99658942222595\n"
     ]
    }
   ],
   "source": [
    "X = df.drop(columns=['Label'])\n",
    "y = df['Label']\n",
    "\n",
    "X_train, X_test, y_train, y_test = train_test_split(X, y, test_size=0.2, random_state=42)\n",
    "\n",
    "# scale the features\n",
    "scaler = StandardScaler()\n",
    "X_train_scaled = scaler.fit_transform(X_train)\n",
    "X_test_scaled = scaler.transform(X_test)\n",
    "\n",
    "# filter for valid classes because the data is not clean\n",
    "valid_classes = [0, 1, 2, 3, 4, 5, 6, 7]\n",
    "mask_train = y_train.isin(valid_classes)\n",
    "mask_test = y_test.isin(valid_classes)\n",
    "\n",
    "# apply the mask to the training and testing data\n",
    "X_train_filtered = X_train_scaled[mask_train]\n",
    "y_train_filtered = y_train[mask_train]\n",
    "\n",
    "X_test_filtered = X_test_scaled[mask_test]\n",
    "y_test_filtered = y_test[mask_test]\n",
    "\n",
    "model = Sequential([\n",
    "    Dense(64, activation='relu', input_shape=(X_train_filtered.shape[1],)),\n",
    "    BatchNormalization(),\n",
    "    Dropout(0.3),\n",
    "    Dense(32, activation='relu'),\n",
    "    BatchNormalization(),\n",
    "    Dropout(0.3),\n",
    "    Dense(16, activation='relu'),\n",
    "    Dense(8, activation='softmax')\n",
    "])\n",
    "\n",
    "model.compile(optimizer=Adam(learning_rate=0.001), \n",
    "              loss='sparse_categorical_crossentropy', \n",
    "              metrics=['accuracy'])\n",
    "\n",
    "early_stopping = EarlyStopping(monitor='val_loss', patience=10, restore_best_weights=True)\n",
    "\n",
    "start_sequential_time = time.time()\n",
    "history = model.fit(X_train_filtered, y_train_filtered, \n",
    "                    epochs=100, \n",
    "                    batch_size=32, \n",
    "                    validation_split=0.2,\n",
    "                    callbacks=[early_stopping])\n",
    "\n",
    "test_loss, test_acc = model.evaluate(X_test_filtered, y_test_filtered)\n",
    "end_sequential_time = time.time()\n",
    "print(f\"Test accuracy for sequential model: {test_acc}\")\n",
    "print(f\"Time taken for sequential model: {end_sequential_time - start_sequential_time}\")"
   ]
  },
  {
   "cell_type": "code",
   "execution_count": 9,
   "metadata": {},
   "outputs": [
    {
     "name": "stderr",
     "output_type": "stream",
     "text": [
      "c:\\Users\\simpl\\anaconda3\\Lib\\site-packages\\xgboost\\core.py:158: UserWarning: [19:58:50] WARNING: C:\\buildkite-agent\\builds\\buildkite-windows-cpu-autoscaling-group-i-0ed59c031377d09b8-1\\xgboost\\xgboost-ci-windows\\src\\learner.cc:740: \n",
      "Parameters: { \"use_label_encoder\" } are not used.\n",
      "\n",
      "  warnings.warn(smsg, UserWarning)\n"
     ]
    },
    {
     "name": "stdout",
     "output_type": "stream",
     "text": [
      "Test accuracy using XGBoost: 0.6146017699115044\n",
      "Time taken for XGBoost: 0.624394416809082\n"
     ]
    }
   ],
   "source": [
    "# Create and train the XGBoost model\n",
    "start_xgb_time = time.time()\n",
    "xgb_model = XGBClassifier(use_label_encoder=True, eval_metric='mlogloss')\n",
    "xgb_model.fit(X_train_filtered, y_train_filtered)\n",
    "\n",
    "# Evaluate the model\n",
    "test_acc = xgb_model.score(X_test_filtered, y_test_filtered)\n",
    "end_xgb_time = time.time()\n",
    "print(f\"Test accuracy using XGBoost: {test_acc}\")\n",
    "print(f\"Time taken for XGBoost: {end_xgb_time - start_xgb_time}\")"
   ]
  },
  {
   "cell_type": "code",
   "execution_count": 10,
   "metadata": {},
   "outputs": [
    {
     "name": "stdout",
     "output_type": "stream",
     "text": [
      "Test accuracy using Random Forest: 0.6044247787610619\n",
      "Time taken for Random Forest: 4.809324741363525\n"
     ]
    }
   ],
   "source": [
    "from sklearn.ensemble import RandomForestClassifier\n",
    "from sklearn.metrics import accuracy_score\n",
    "\n",
    "start_rf_time = time.time()\n",
    "rf_model = RandomForestClassifier(n_estimators=100, random_state=42)\n",
    "rf_model.fit(X_train_filtered, y_train_filtered)\n",
    "end_rf_time = time.time()\n",
    "\n",
    "y_pred_rf = rf_model.predict(X_test_filtered)\n",
    "test_acc_rf = accuracy_score(y_test_filtered, y_pred_rf)\n",
    "print(f\"Test accuracy using Random Forest: {test_acc_rf}\")\n",
    "print(f\"Time taken for Random Forest: {end_rf_time - start_rf_time}\")"
   ]
  },
  {
   "cell_type": "code",
   "execution_count": 11,
   "metadata": {},
   "outputs": [],
   "source": [
    "# # Save the model\n",
    "# xgb_model.save(MODEL_PATH)\n",
    "\n",
    "# # Save the scaler and the column names to a pickle file\n",
    "# with open(METADATA_PATH, 'wb') as f:\n",
    "#     pickle.dump((scaler, X_train.columns), f)"
   ]
  },
  {
   "cell_type": "code",
   "execution_count": 12,
   "metadata": {},
   "outputs": [
    {
     "name": "stdout",
     "output_type": "stream",
     "text": [
      "\u001b[1m1/1\u001b[0m \u001b[32m━━━━━━━━━━━━━━━━━━━━\u001b[0m\u001b[37m\u001b[0m \u001b[1m0s\u001b[0m 129ms/step\n",
      "Predicted class: 1 - first_finger\n"
     ]
    }
   ],
   "source": [
    "# emg_data = [[2,-11,-11,-38,-26,-1,-3,-11,], [-2,4,14,26,45,66,19,25]]\n",
    "# emg_data = [[-4,2,2,1,-29,10,-1,-4], [4,-3,-4,9,6,2,2,-2]]\n",
    "emg_data = [[-7,-9,-14,-55,-117,-25,-11], [-8,8,8,20,50,98,9,12,5]]\n",
    "\n",
    "# emg_data = [[0, 0, 0, 0, 100, 0, 0, 0], [0, 0, 0, 0, 100, 0, 0, 0]]\n",
    "\n",
    "sensor1_data, sensor2_data = emg_data\n",
    "\n",
    "emg_features = np.concatenate((sensor1_data, sensor2_data))\n",
    "emg_features_df = pd.DataFrame([emg_features], columns=X_train.columns)\n",
    "\n",
    "emg_features_scaled = scaler.transform(emg_features_df)\n",
    "emg_features_reshaped = emg_features_scaled.reshape(1, -1)\n",
    "\n",
    "prediction = model.predict(emg_features_reshaped)\n",
    "predicted_class = np.argmax(prediction)\n",
    "\n",
    "# print(f\"Probabilities: {prediction}\")\n",
    "\n",
    "print(f\"Predicted class: {predicted_class} - {CLASSES[predicted_class]}\")\n"
   ]
  }
 ],
 "metadata": {
  "kernelspec": {
   "display_name": "base",
   "language": "python",
   "name": "python3"
  },
  "language_info": {
   "codemirror_mode": {
    "name": "ipython",
    "version": 3
   },
   "file_extension": ".py",
   "mimetype": "text/x-python",
   "name": "python",
   "nbconvert_exporter": "python",
   "pygments_lexer": "ipython3",
   "version": "3.12.4"
  }
 },
 "nbformat": 4,
 "nbformat_minor": 2
}
